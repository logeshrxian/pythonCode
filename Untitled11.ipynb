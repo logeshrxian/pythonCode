{
  "nbformat": 4,
  "nbformat_minor": 0,
  "metadata": {
    "colab": {
      "name": "Untitled11.ipynb",
      "provenance": [],
      "authorship_tag": "ABX9TyMK7MB4C/YNEwIr0xCKWQuj",
      "include_colab_link": true
    },
    "kernelspec": {
      "name": "python3",
      "display_name": "Python 3"
    },
    "language_info": {
      "name": "python"
    }
  },
  "cells": [
    {
      "cell_type": "markdown",
      "metadata": {
        "id": "view-in-github",
        "colab_type": "text"
      },
      "source": [
        "<a href=\"https://colab.research.google.com/github/logeshrxian/pythonCode/blob/main/Untitled11.ipynb\" target=\"_parent\"><img src=\"https://colab.research.google.com/assets/colab-badge.svg\" alt=\"Open In Colab\"/></a>"
      ]
    },
    {
      "cell_type": "code",
      "execution_count": 1,
      "metadata": {
        "colab": {
          "base_uri": "https://localhost:8080/"
        },
        "id": "KUxTcABrqADF",
        "outputId": "745955bf-8a9e-4023-e8ad-e8fd64b6b392"
      },
      "outputs": [
        {
          "output_type": "stream",
          "name": "stdout",
          "text": [
            "Choice 1:add,2:sub,3:div,4:multi,5:exit\n",
            "Enter the choice:5\n",
            "choose the correct opertion\n"
          ]
        }
      ],
      "source": [
        "print(\"Choice 1:add,2:sub,3:div,4:multi,5:exit\")\n",
        "c=int(input(\"Enter the choice:\"))\n",
        "if(c==1):\n",
        "  print(\"Add\")\n",
        "  A=int(input(\"Enter the value of a:\"))\n",
        "  B=int(input(\"Enter the value of b:\"))\n",
        "  D=A+B\n",
        "  print(\"the result of a+b =\",D)\n",
        "elif(c==2):\n",
        "  print(\"sub\")\n",
        "  A=int(input(\"Enter the value of a:\"))\n",
        "  B=int(input(\"Enter the value of b:\"))\n",
        "  D=A-B\n",
        "  print(\"the result of a+b =\",D)\n",
        "elif(c==3):\n",
        "  print(\"div\")\n",
        "  A=int(input(\"Enter the value of a:\"))\n",
        "  B=int(input(\"Enter the value of b:\"))\n",
        "  D=A/B\n",
        "  print(\"the result of a+b =\",D)\n",
        "elif(c==4):\n",
        "  print(\"multi\")\n",
        "  A=int(input(\"Enter the value of a:\"))\n",
        "  B=int(input(\"Enter the value of b:\"))\n",
        "  D=A*B\n",
        "  print(\"the result of a+b =\",D)\n",
        "elif(c==5):\n",
        "  print(\"choose the correct opertion\" )"
      ]
    }
  ]
}