{
  "nbformat": 4,
  "nbformat_minor": 0,
  "metadata": {
    "colab": {
      "name": "Untitled9.ipynb",
      "provenance": [],
      "collapsed_sections": [],
      "authorship_tag": "ABX9TyO1Hq2U80vMJtxenrdKNN9s",
      "include_colab_link": true
    },
    "kernelspec": {
      "name": "python3",
      "display_name": "Python 3"
    },
    "language_info": {
      "name": "python"
    }
  },
  "cells": [
    {
      "cell_type": "markdown",
      "metadata": {
        "id": "view-in-github",
        "colab_type": "text"
      },
      "source": [
        "<a href=\"https://colab.research.google.com/github/logeshrxian/pythonCode/blob/main/Untitled9.ipynb\" target=\"_parent\"><img src=\"https://colab.research.google.com/assets/colab-badge.svg\" alt=\"Open In Colab\"/></a>"
      ]
    },
    {
      "cell_type": "code",
      "execution_count": 1,
      "metadata": {
        "id": "rs1NgQ_4lN3k"
      },
      "outputs": [],
      "source": [
        "def printme( str ):\n",
        "  'this prints a passed string into this function'\n",
        "  print (str) \n",
        "  return;"
      ]
    },
    {
      "cell_type": "code",
      "source": [
        "def printme( str ):\n",
        "  'this prints a passed string into this function'\n",
        "  print (str) \n",
        "  return;\n",
        "\n",
        "printme(\" I'm first call to user defined function!\" )\n",
        "printme(\"again second call to the same function\")\n",
        " "
      ],
      "metadata": {
        "colab": {
          "base_uri": "https://localhost:8080/"
        },
        "id": "KqSWIX4Ulpu6",
        "outputId": "b9e65b86-4fb4-4e9c-a254-6a668bd588d0"
      },
      "execution_count": 3,
      "outputs": [
        {
          "output_type": "stream",
          "name": "stdout",
          "text": [
            " I'm first call to user defined function!\n",
            "again second call to the same function\n"
          ]
        }
      ]
    },
    {
      "cell_type": "code",
      "source": [
        "def changeme( mylist ):\n",
        "  'this changes a passed list into this function'\n",
        "  mylist.append([1,2,3,4]);\n",
        "  print('values inside the function:  ', mylist)\n",
        "  return\n",
        "\n",
        "mylist = [10,20,30];\n",
        "changeme( mylist );\n",
        "print('values outside the function: ',mylist  )"
      ],
      "metadata": {
        "colab": {
          "base_uri": "https://localhost:8080/"
        },
        "id": "w9d-EUFJl1Vy",
        "outputId": "03d0cf2b-38a6-4ffa-ecba-72baa63530a5"
      },
      "execution_count": 4,
      "outputs": [
        {
          "output_type": "stream",
          "name": "stdout",
          "text": [
            "values inside the function:   [10, 20, 30, [1, 2, 3, 4]]\n",
            "values outside the function:  [10, 20, 30, [1, 2, 3, 4]]\n"
          ]
        }
      ]
    },
    {
      "cell_type": "code",
      "source": [
        "def changeme( mylist ):\n",
        "  'this changes a passed list into this function'\n",
        "  mylist = [1,2,3,4];\n",
        "  print('values inside the function: ',mylist)\n",
        "  return\n",
        "\n",
        "\n",
        "mylist = [10,20,30];\n",
        "changeme( mylist );\n",
        "print('values outside the function: ',mylist)"
      ],
      "metadata": {
        "colab": {
          "base_uri": "https://localhost:8080/"
        },
        "id": "ixji9lssl5sp",
        "outputId": "1b13f24b-9306-4804-fca3-da24406361a5"
      },
      "execution_count": 5,
      "outputs": [
        {
          "output_type": "stream",
          "name": "stdout",
          "text": [
            "values inside the function:  [1, 2, 3, 4]\n",
            "values outside the function:  [10, 20, 30]\n"
          ]
        }
      ]
    },
    {
      "cell_type": "code",
      "source": [
        "def printme( str ):\n",
        "  'this prints a passed string into this function'\n",
        "  print (str) \n",
        "  return;"
      ],
      "metadata": {
        "id": "71ZHUBMVl-qx"
      },
      "execution_count": 8,
      "outputs": []
    },
    {
      "cell_type": "code",
      "source": [
        "def printme(str):\n",
        "  'this prints a passed string into this function'\n",
        "  print(str)\n",
        "  return;\n",
        "\n",
        "printme(str)"
      ],
      "metadata": {
        "colab": {
          "base_uri": "https://localhost:8080/"
        },
        "id": "x7OiM0FnmE3i",
        "outputId": "6270f722-df4c-40a6-8574-7e5108b9c101"
      },
      "execution_count": 9,
      "outputs": [
        {
          "output_type": "stream",
          "name": "stdout",
          "text": [
            "<class 'str'>\n"
          ]
        }
      ]
    },
    {
      "cell_type": "code",
      "source": [
        "def printme(str):\n",
        "  'this prints a passed string into this function'\n",
        "  print (str)\n",
        "  return;\n",
        "\n",
        "printme(str = 'my string')"
      ],
      "metadata": {
        "colab": {
          "base_uri": "https://localhost:8080/"
        },
        "id": "h-jeRUzomJiC",
        "outputId": "1dcc5b0e-d118-4b55-8545-89d02676e714"
      },
      "execution_count": 10,
      "outputs": [
        {
          "output_type": "stream",
          "name": "stdout",
          "text": [
            "my string\n"
          ]
        }
      ]
    },
    {
      "cell_type": "code",
      "source": [
        "def printinfo( name , age ):\n",
        "  'this prints a passed info into this function'\n",
        "  print ('name: ',name)\n",
        "  print ('age:',age)\n",
        "  return;\n",
        "\n",
        "printinfo( age=50, name='asuna')"
      ],
      "metadata": {
        "colab": {
          "base_uri": "https://localhost:8080/"
        },
        "id": "5RAY6f6XmO3h",
        "outputId": "5cf40f2a-2901-404e-a570-157999b4cc8f"
      },
      "execution_count": 11,
      "outputs": [
        {
          "output_type": "stream",
          "name": "stdout",
          "text": [
            "name:  asuna\n",
            "age: 50\n"
          ]
        }
      ]
    },
    {
      "cell_type": "code",
      "source": [
        "def printinfo( name , age = 30 ):\n",
        "  'this prints a passed info into this function'\n",
        "  print('name:',name )\n",
        "  print('age:',age)\n",
        "  return;\n",
        "\n",
        "printinfo( age = 35, name = 'asuna')\n",
        "printinfo( name = 'asuna')"
      ],
      "metadata": {
        "colab": {
          "base_uri": "https://localhost:8080/"
        },
        "id": "44jLbDmxmTZC",
        "outputId": "6db96f1f-bdd8-42f0-d931-69f07bcc8cdf"
      },
      "execution_count": 12,
      "outputs": [
        {
          "output_type": "stream",
          "name": "stdout",
          "text": [
            "name: asuna\n",
            "age: 35\n",
            "name: asuna\n",
            "age: 30\n"
          ]
        }
      ]
    },
    {
      "cell_type": "code",
      "source": [
        "def printinfo( arg1, *vartuple  ):\n",
        "  'this prints a variable passed arguments'\n",
        "  print('output is:')\n",
        "  print(arg1)\n",
        "  for var in vartuple:\n",
        "    print(var)\n",
        "    return;\n",
        "\n",
        "printinfo( 10 )\n",
        "printinfo( 70, 60,50 )"
      ],
      "metadata": {
        "colab": {
          "base_uri": "https://localhost:8080/"
        },
        "id": "XueuEXX1mXGa",
        "outputId": "941c8eb6-c769-4b8a-868e-c56324077a41"
      },
      "execution_count": 13,
      "outputs": [
        {
          "output_type": "stream",
          "name": "stdout",
          "text": [
            "output is:\n",
            "10\n",
            "output is:\n",
            "70\n",
            "60\n"
          ]
        }
      ]
    },
    {
      "cell_type": "code",
      "source": [
        "total = 0;\n",
        "def sum( arg1 , arg2 ):\n",
        "  total = arg1 + arg2;\n",
        "  print('inside the function local total: ',total)\n",
        "  return total;\n",
        "\n",
        "sum(10,20);\n",
        "print('outside the function global total: ',total)"
      ],
      "metadata": {
        "colab": {
          "base_uri": "https://localhost:8080/"
        },
        "id": "vFW1_Tq7ma_S",
        "outputId": "f2a0cd96-8ba3-4060-8834-ce6a03832a5f"
      },
      "execution_count": 14,
      "outputs": [
        {
          "output_type": "stream",
          "name": "stdout",
          "text": [
            "inside the function local total:  30\n",
            "outside the function global total:  0\n"
          ]
        }
      ]
    },
    {
      "cell_type": "code",
      "source": [
        "from math import sqrt\n",
        "max_value = eval(input('display primes up to what value? '))\n",
        "value = 2\n",
        "\n",
        "while value <= max_value:\n",
        "  is_prime = True\n",
        "  trial_factor = 2\n",
        "  root = sqrt(value)\n",
        "  while trial_factor <= root:\n",
        "    if value % trial_factor == 0:\n",
        "      is_prime = False;\n",
        "      break\n",
        "    trial_factor += 1\n",
        "  if is_prime:\n",
        "    print(value, end='')\n",
        "  value += 1\n",
        "\n",
        "print()"
      ],
      "metadata": {
        "colab": {
          "base_uri": "https://localhost:8080/"
        },
        "id": "iOoNEQCQmfOS",
        "outputId": "1777c2c3-0273-48b2-db2d-81cb2dc01bc6"
      },
      "execution_count": 15,
      "outputs": [
        {
          "output_type": "stream",
          "name": "stdout",
          "text": [
            "display primes up to what value? 8\n",
            "2357\n"
          ]
        }
      ]
    },
    {
      "cell_type": "code",
      "source": [
        "from time import clock\n",
        "\n",
        "print('enter your name: ',end='')\n",
        "start_time = clock()\n",
        "name = input()\n",
        "elapsed = clock() - start_time\n",
        "print(name, 'it took you ', elapsed, 'seconds to respond')"
      ],
      "metadata": {
        "colab": {
          "base_uri": "https://localhost:8080/"
        },
        "id": "_l_0cSlqmp4f",
        "outputId": "26a1ea1b-bf47-4679-8349-ffa1b0f1e8af"
      },
      "execution_count": 16,
      "outputs": [
        {
          "output_type": "stream",
          "name": "stderr",
          "text": [
            "/usr/local/lib/python3.7/dist-packages/ipykernel_launcher.py:4: DeprecationWarning: time.clock has been deprecated in Python 3.3 and will be removed from Python 3.8: use time.perf_counter or time.process_time instead\n",
            "  after removing the cwd from sys.path.\n"
          ]
        },
        {
          "output_type": "stream",
          "name": "stdout",
          "text": [
            "enter your name: logesh\n",
            "logesh it took you  0.07550800000000013 seconds to respond\n"
          ]
        },
        {
          "output_type": "stream",
          "name": "stderr",
          "text": [
            "/usr/local/lib/python3.7/dist-packages/ipykernel_launcher.py:6: DeprecationWarning: time.clock has been deprecated in Python 3.3 and will be removed from Python 3.8: use time.perf_counter or time.process_time instead\n",
            "  \n"
          ]
        }
      ]
    },
    {
      "cell_type": "code",
      "source": [
        "from time import clock\n",
        "\n",
        "max_value = 10000\n",
        "count = 0\n",
        "start_time = clock()\n",
        "for value in range(2, max_value + 1):\n",
        "  is_prime = True\n",
        "  for trial_factor in range(2, value):\n",
        "    if value % trial_factor == 0:\n",
        "      is_prime = False\n",
        "      break\n",
        "  if is_prime:\n",
        "    count += 1\n",
        "print()\n",
        "elapsed = clock() - start_time\n",
        "print('count: ', 'elapsed time: ', elapsed, 'sec')"
      ],
      "metadata": {
        "colab": {
          "base_uri": "https://localhost:8080/"
        },
        "id": "Jao6iCoHm0Hj",
        "outputId": "60e8c054-f135-49e2-d30c-fcd61914abf5"
      },
      "execution_count": 17,
      "outputs": [
        {
          "output_type": "stream",
          "name": "stderr",
          "text": [
            "/usr/local/lib/python3.7/dist-packages/ipykernel_launcher.py:5: DeprecationWarning: time.clock has been deprecated in Python 3.3 and will be removed from Python 3.8: use time.perf_counter or time.process_time instead\n",
            "  \"\"\"\n"
          ]
        },
        {
          "output_type": "stream",
          "name": "stdout",
          "text": [
            "\n",
            "count:  elapsed time:  0.6833930000000001 sec\n"
          ]
        },
        {
          "output_type": "stream",
          "name": "stderr",
          "text": [
            "/usr/local/lib/python3.7/dist-packages/ipykernel_launcher.py:15: DeprecationWarning: time.clock has been deprecated in Python 3.3 and will be removed from Python 3.8: use time.perf_counter or time.process_time instead\n",
            "  from ipykernel import kernelapp as app\n"
          ]
        }
      ]
    },
    {
      "cell_type": "code",
      "source": [
        "from time import sleep\n",
        "\n",
        "for count in range(10,-1,-1):\n",
        "  print(count)\n",
        "  sleep(1)"
      ],
      "metadata": {
        "colab": {
          "base_uri": "https://localhost:8080/"
        },
        "id": "SgNpW0eqm40y",
        "outputId": "b4e50c27-c311-4114-a697-f23d4e05c9ed"
      },
      "execution_count": 18,
      "outputs": [
        {
          "output_type": "stream",
          "name": "stdout",
          "text": [
            "10\n",
            "9\n",
            "8\n",
            "7\n",
            "6\n",
            "5\n",
            "4\n",
            "3\n",
            "2\n",
            "1\n",
            "0\n"
          ]
        }
      ]
    },
    {
      "cell_type": "code",
      "source": [
        "from random import randrange , seed\n",
        "\n",
        "seed (23)\n",
        "for i in range (0,100):\n",
        "  print(randrange(1,1000))\n",
        "print()"
      ],
      "metadata": {
        "colab": {
          "base_uri": "https://localhost:8080/"
        },
        "id": "nL54TsJQm8eq",
        "outputId": "35de0937-6648-4b94-82de-c11cc4524330"
      },
      "execution_count": 19,
      "outputs": [
        {
          "output_type": "stream",
          "name": "stdout",
          "text": [
            "948\n",
            "799\n",
            "972\n",
            "297\n",
            "914\n",
            "850\n",
            "86\n",
            "18\n",
            "607\n",
            "315\n",
            "434\n",
            "389\n",
            "543\n",
            "367\n",
            "134\n",
            "744\n",
            "197\n",
            "274\n",
            "456\n",
            "15\n",
            "227\n",
            "636\n",
            "466\n",
            "924\n",
            "26\n",
            "109\n",
            "88\n",
            "728\n",
            "511\n",
            "432\n",
            "21\n",
            "525\n",
            "643\n",
            "752\n",
            "442\n",
            "368\n",
            "790\n",
            "59\n",
            "211\n",
            "802\n",
            "37\n",
            "604\n",
            "378\n",
            "674\n",
            "177\n",
            "636\n",
            "222\n",
            "995\n",
            "753\n",
            "372\n",
            "580\n",
            "779\n",
            "881\n",
            "378\n",
            "992\n",
            "586\n",
            "289\n",
            "677\n",
            "999\n",
            "322\n",
            "587\n",
            "88\n",
            "834\n",
            "486\n",
            "182\n",
            "736\n",
            "495\n",
            "605\n",
            "811\n",
            "459\n",
            "692\n",
            "658\n",
            "168\n",
            "187\n",
            "819\n",
            "183\n",
            "547\n",
            "332\n",
            "690\n",
            "836\n",
            "533\n",
            "201\n",
            "597\n",
            "118\n",
            "85\n",
            "101\n",
            "437\n",
            "40\n",
            "582\n",
            "283\n",
            "963\n",
            "587\n",
            "288\n",
            "841\n",
            "605\n",
            "339\n",
            "112\n",
            "379\n",
            "922\n",
            "296\n",
            "\n"
          ]
        }
      ]
    },
    {
      "cell_type": "code",
      "source": [
        "from random import randrange\n",
        "for i in range(0,3):\n",
        "  value = randrange(1,6)\n",
        "  print('+-------------+')\n",
        "  if value == 1:\n",
        "    print('|             |')\n",
        "    print('|      *      |')\n",
        "    print('|             |')\n",
        "  elif value == 2:\n",
        "    print('|*            |')\n",
        "    print('|             |')\n",
        "    print('|            *|')\n",
        "  elif value == 3:\n",
        "    print('|            *|')\n",
        "    print('|      *      |')\n",
        "    print('|*            |')\n",
        "  elif value == 4:\n",
        "    print('|*           *|')\n",
        "    print('|             |')\n",
        "    print('|*           *|')   \n",
        "  elif value == 5:\n",
        "    print('|*           *|')\n",
        "    print('|      *      |')\n",
        "    print('|*           *|')\n",
        "\n",
        "print('+-------------+')"
      ],
      "metadata": {
        "colab": {
          "base_uri": "https://localhost:8080/"
        },
        "id": "vmLTBN8OnA6i",
        "outputId": "4f770534-7ef9-4522-ddd7-54660ad49c7a"
      },
      "execution_count": 20,
      "outputs": [
        {
          "output_type": "stream",
          "name": "stdout",
          "text": [
            "+-------------+\n",
            "|*           *|\n",
            "|      *      |\n",
            "|*           *|\n",
            "+-------------+\n",
            "|            *|\n",
            "|      *      |\n",
            "|*            |\n",
            "+-------------+\n",
            "|*           *|\n",
            "|             |\n",
            "|*           *|\n",
            "+-------------+\n"
          ]
        }
      ]
    },
    {
      "cell_type": "code",
      "source": [
        "def gcd (m,n):\n",
        "  min = m if m < n else n\n",
        "  largestfactor = 1\n",
        "  for i in range (1, min + 1):\n",
        "    if m % i == 0 and n % i == 0:\n",
        "      largestfactor = i\n",
        "  return largestfactor\n",
        "\n",
        "def get_int():\n",
        "  return int (input('please enter an integer: ')) \n",
        "def main ():\n",
        "  n1 = get_int()\n",
        "  n2 = get_int()\n",
        "  print('gcd(', n1, ',' ,  n2 , ') = ' , gcd(n1,n2) , sep = '')  \n",
        "main()"
      ],
      "metadata": {
        "colab": {
          "base_uri": "https://localhost:8080/"
        },
        "id": "HFOYj_-VnGJC",
        "outputId": "29c37059-5baf-4316-d6cf-836384aa3e0c"
      },
      "execution_count": 21,
      "outputs": [
        {
          "output_type": "stream",
          "name": "stdout",
          "text": [
            "please enter an integer: 1\n",
            "please enter an integer: 1\n",
            "gcd(1,1) = 1\n"
          ]
        }
      ]
    },
    {
      "cell_type": "code",
      "source": [
        "def increment (x):\n",
        "  print('beginning execution of increment, x= ',  x )\n",
        "  x += 1\n",
        "  print('ending execution of increment, x= ', x )\n",
        "\n",
        "def main():\n",
        "  x = 5\n",
        "  print('before increment, x=', x )\n",
        "  increment(x)\n",
        "  print('after increment, x=', x ) \n",
        "  \n",
        "main()"
      ],
      "metadata": {
        "colab": {
          "base_uri": "https://localhost:8080/"
        },
        "id": "RWRDSgDVnRz6",
        "outputId": "e822a1cd-8a81-4fd5-ce48-b50050c4060c"
      },
      "execution_count": 22,
      "outputs": [
        {
          "output_type": "stream",
          "name": "stdout",
          "text": [
            "before increment, x= 5\n",
            "beginning execution of increment, x=  5\n",
            "ending execution of increment, x=  6\n",
            "after increment, x= 5\n"
          ]
        }
      ]
    },
    {
      "cell_type": "code",
      "source": [
        "def countdown(n=24):\n",
        "  for count in range (n,-1,-1):\n",
        "    print(count)\n",
        "\n",
        "countdown()"
      ],
      "metadata": {
        "colab": {
          "base_uri": "https://localhost:8080/"
        },
        "id": "vAQdAHOYnWji",
        "outputId": "b2a7663d-1f59-45d6-f6ff-6d4f04a124f1"
      },
      "execution_count": 23,
      "outputs": [
        {
          "output_type": "stream",
          "name": "stdout",
          "text": [
            "24\n",
            "23\n",
            "22\n",
            "21\n",
            "20\n",
            "19\n",
            "18\n",
            "17\n",
            "16\n",
            "15\n",
            "14\n",
            "13\n",
            "12\n",
            "11\n",
            "10\n",
            "9\n",
            "8\n",
            "7\n",
            "6\n",
            "5\n",
            "4\n",
            "3\n",
            "2\n",
            "1\n",
            "0\n"
          ]
        }
      ]
    },
    {
      "cell_type": "code",
      "source": [
        "def factorial(n):\n",
        "  if n == 0:\n",
        "    return 1\n",
        "  else:\n",
        "    return n * factorial(n-1)\n",
        "\n",
        "def main():\n",
        "  print('0! = ', factorial(0))\n",
        "  print('1! = ', factorial(1))\n",
        "  print('6! = ', factorial(6))\n",
        "  print('10! = ', factorial(10))\n",
        "\n",
        "main()"
      ],
      "metadata": {
        "colab": {
          "base_uri": "https://localhost:8080/"
        },
        "id": "XoRQgam8nZkR",
        "outputId": "59261156-1ca3-4c0b-9b03-a059be915daf"
      },
      "execution_count": 24,
      "outputs": [
        {
          "output_type": "stream",
          "name": "stdout",
          "text": [
            "0! =  1\n",
            "1! =  1\n",
            "6! =  720\n",
            "10! =  3628800\n"
          ]
        }
      ]
    },
    {
      "cell_type": "code",
      "source": [
        "from math import sqrt\n",
        "\n",
        "def is_prime(n):\n",
        "  trial_factor = 2\n",
        "  root = sqrt(n)\n",
        "  while trial_factor  <= root :\n",
        "    if n % trial_factor == 0:\n",
        "      return False;\n",
        "\n",
        "  return True;"
      ],
      "metadata": {
        "id": "_M-03x3RndfC"
      },
      "execution_count": 25,
      "outputs": []
    },
    {
      "cell_type": "code",
      "source": [
        "def add(x,y):\n",
        "  return x+y\n",
        "def multiply(x,y):\n",
        "  return x*y\n",
        "def evaluate(f,x,y):\n",
        "  return f(x,y)\n",
        "def main():\n",
        "  print(add(2,3)) \n",
        "  print(multiply(2,3))\n",
        "  print(evaluate(add,2,3))\n",
        "  print(evaluate(multiply,2,3))\n",
        "\n",
        "main()"
      ],
      "metadata": {
        "colab": {
          "base_uri": "https://localhost:8080/"
        },
        "id": "SOLjHCxjnid6",
        "outputId": "da017d44-ebb7-464a-b623-008955736b87"
      },
      "execution_count": 28,
      "outputs": [
        {
          "output_type": "stream",
          "name": "stdout",
          "text": [
            "5\n",
            "6\n",
            "5\n",
            "6\n"
          ]
        }
      ]
    }
  ]
}